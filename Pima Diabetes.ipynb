{
 "cells": [
  {
   "cell_type": "markdown",
   "id": "1513745c",
   "metadata": {},
   "source": [
    "# Pima Indians Diabetes"
   ]
  },
  {
   "cell_type": "markdown",
   "id": "04f01b03",
   "metadata": {},
   "source": [
    "Introduction:\n",
    "    \n",
    "This dataset is originally from the National Institute of Diabetes and Digestive and Kidney Diseases.\n",
    "\n",
    "The objective of the dataset is to diagnostically predict whether or not a patient has diabetes, based on certain diagnostic measurements included in the dataset. \n",
    "\n",
    "Several constraints were placed on the selection of these instances from a larger database. \n",
    "\n",
    "In particular, all patients here are females at least 21 years old of Pima Indian heritage."
   ]
  },
  {
   "cell_type": "markdown",
   "id": "c299674b",
   "metadata": {},
   "source": [
    "Column Description:\n",
    "    \n",
    "Pregnancies: Number of times pregnant\n",
    "\n",
    "Glucose: Plasma glucose concentration a 2 hours in an oral glucose tolerance test\n",
    "\n",
    "BloodPressure: Diastolic blood pressure (mm Hg)\n",
    "\n",
    "SkinThickness: Triceps skin fold thickness (mm)\n",
    "\n",
    "Insulin: 2-Hour serum insulin (mu U/ml)\n",
    "\n",
    "BMI: Body mass index (weight in kg/(height in m)^2)\n",
    "\n",
    "DiabetesPedigreeFunction: Diabetes pedigree function\n",
    "\n",
    "Age: Age (years)\n",
    "\n",
    "Outcome: Class variable (0 or 1) 268 of 768 are 1, the others are 0"
   ]
  },
  {
   "cell_type": "markdown",
   "id": "fbb01822",
   "metadata": {},
   "source": [
    "# Importing needed packages"
   ]
  },
  {
   "cell_type": "code",
   "execution_count": 1,
   "id": "3add30ed",
   "metadata": {},
   "outputs": [],
   "source": [
    "import pandas as pd\n",
    "import numpy as np\n",
    "import matplotlib.pyplot as plt\n",
    "%matplotlib inline\n",
    "import seaborn as sns\n",
    "from sklearn.preprocessing import LabelEncoder\n",
    "from sklearn.preprocessing import StandardScaler\n",
    "from sklearn.model_selection import train_test_split\n",
    "from sklearn.metrics import *\n",
    "from sklearn.neighbors import KNeighborsClassifier\n",
    "from sklearn.tree import DecisionTreeClassifier\n",
    "from sklearn.svm import SVC\n",
    "from sklearn.linear_model import LogisticRegression\n",
    "from sklearn.ensemble import GradientBoostingClassifier\n",
    "from xgboost import XGBClassifier\n",
    "\n",
    "import warnings\n",
    "warnings.filterwarnings('ignore')"
   ]
  },
  {
   "cell_type": "markdown",
   "id": "c392784e",
   "metadata": {},
   "source": [
    "# Reading the dataset"
   ]
  },
  {
   "cell_type": "code",
   "execution_count": 2,
   "id": "2e233b1f",
   "metadata": {},
   "outputs": [],
   "source": [
    "diabetes = pd.read_csv(r\"C:\\Users\\Sharvin\\Downloads\\pima1 (1).csv\")"
   ]
  },
  {
   "cell_type": "code",
   "execution_count": 3,
   "id": "09a67bc1",
   "metadata": {},
   "outputs": [
    {
     "data": {
      "text/html": [
       "<div>\n",
       "<style scoped>\n",
       "    .dataframe tbody tr th:only-of-type {\n",
       "        vertical-align: middle;\n",
       "    }\n",
       "\n",
       "    .dataframe tbody tr th {\n",
       "        vertical-align: top;\n",
       "    }\n",
       "\n",
       "    .dataframe thead th {\n",
       "        text-align: right;\n",
       "    }\n",
       "</style>\n",
       "<table border=\"1\" class=\"dataframe\">\n",
       "  <thead>\n",
       "    <tr style=\"text-align: right;\">\n",
       "      <th></th>\n",
       "      <th>pregnancy</th>\n",
       "      <th>plasma_glucose</th>\n",
       "      <th>distolic_bp</th>\n",
       "      <th>skin_thick</th>\n",
       "      <th>insuline</th>\n",
       "      <th>BMI</th>\n",
       "      <th>pedigree_fn</th>\n",
       "      <th>age</th>\n",
       "      <th>Diabetes</th>\n",
       "    </tr>\n",
       "  </thead>\n",
       "  <tbody>\n",
       "    <tr>\n",
       "      <th>0</th>\n",
       "      <td>6</td>\n",
       "      <td>148</td>\n",
       "      <td>72</td>\n",
       "      <td>35</td>\n",
       "      <td>0</td>\n",
       "      <td>33.6</td>\n",
       "      <td>0.627</td>\n",
       "      <td>50</td>\n",
       "      <td>tested_positive</td>\n",
       "    </tr>\n",
       "    <tr>\n",
       "      <th>1</th>\n",
       "      <td>1</td>\n",
       "      <td>85</td>\n",
       "      <td>66</td>\n",
       "      <td>29</td>\n",
       "      <td>0</td>\n",
       "      <td>26.6</td>\n",
       "      <td>0.351</td>\n",
       "      <td>31</td>\n",
       "      <td>tested_negative</td>\n",
       "    </tr>\n",
       "    <tr>\n",
       "      <th>2</th>\n",
       "      <td>8</td>\n",
       "      <td>183</td>\n",
       "      <td>64</td>\n",
       "      <td>0</td>\n",
       "      <td>0</td>\n",
       "      <td>23.3</td>\n",
       "      <td>0.672</td>\n",
       "      <td>32</td>\n",
       "      <td>tested_positive</td>\n",
       "    </tr>\n",
       "    <tr>\n",
       "      <th>3</th>\n",
       "      <td>1</td>\n",
       "      <td>89</td>\n",
       "      <td>66</td>\n",
       "      <td>23</td>\n",
       "      <td>94</td>\n",
       "      <td>28.1</td>\n",
       "      <td>0.167</td>\n",
       "      <td>21</td>\n",
       "      <td>tested_negative</td>\n",
       "    </tr>\n",
       "    <tr>\n",
       "      <th>4</th>\n",
       "      <td>0</td>\n",
       "      <td>137</td>\n",
       "      <td>40</td>\n",
       "      <td>35</td>\n",
       "      <td>168</td>\n",
       "      <td>43.1</td>\n",
       "      <td>2.288</td>\n",
       "      <td>33</td>\n",
       "      <td>tested_positive</td>\n",
       "    </tr>\n",
       "  </tbody>\n",
       "</table>\n",
       "</div>"
      ],
      "text/plain": [
       "   pregnancy  plasma_glucose  distolic_bp  skin_thick  insuline   BMI  \\\n",
       "0          6             148           72          35         0  33.6   \n",
       "1          1              85           66          29         0  26.6   \n",
       "2          8             183           64           0         0  23.3   \n",
       "3          1              89           66          23        94  28.1   \n",
       "4          0             137           40          35       168  43.1   \n",
       "\n",
       "   pedigree_fn  age         Diabetes  \n",
       "0        0.627   50  tested_positive  \n",
       "1        0.351   31  tested_negative  \n",
       "2        0.672   32  tested_positive  \n",
       "3        0.167   21  tested_negative  \n",
       "4        2.288   33  tested_positive  "
      ]
     },
     "execution_count": 3,
     "metadata": {},
     "output_type": "execute_result"
    }
   ],
   "source": [
    "diabetes.head()"
   ]
  },
  {
   "cell_type": "markdown",
   "id": "b45ecd31",
   "metadata": {},
   "source": [
    "# Data cleaning"
   ]
  },
  {
   "cell_type": "code",
   "execution_count": 4,
   "id": "182d9365",
   "metadata": {},
   "outputs": [
    {
     "data": {
      "text/plain": [
       "(768, 9)"
      ]
     },
     "execution_count": 4,
     "metadata": {},
     "output_type": "execute_result"
    }
   ],
   "source": [
    "diabetes.shape"
   ]
  },
  {
   "cell_type": "code",
   "execution_count": 5,
   "id": "a9574375",
   "metadata": {},
   "outputs": [
    {
     "data": {
      "text/plain": [
       "Index(['pregnancy', 'plasma_glucose', 'distolic_bp', 'skin_thick', 'insuline',\n",
       "       'BMI', 'pedigree_fn', 'age', 'Diabetes'],\n",
       "      dtype='object')"
      ]
     },
     "execution_count": 5,
     "metadata": {},
     "output_type": "execute_result"
    }
   ],
   "source": [
    "diabetes.columns"
   ]
  },
  {
   "cell_type": "code",
   "execution_count": 6,
   "id": "de89420e",
   "metadata": {},
   "outputs": [
    {
     "data": {
      "text/plain": [
       "Index(['Pregnancies', 'Glucose', 'BloodPressure', 'SkinThickness', 'Insulin',\n",
       "       'BMI', 'DiabetesPedigreeFunction', 'Age', 'Outcome'],\n",
       "      dtype='object')"
      ]
     },
     "execution_count": 6,
     "metadata": {},
     "output_type": "execute_result"
    }
   ],
   "source": [
    "diabetes.rename(columns={'pregnancy': 'Pregnancies', 'plasma_glucose': 'Glucose','distolic_bp': 'BloodPressure','skin_thick': 'SkinThickness','insuline': 'Insulin','pedigree_fn': 'DiabetesPedigreeFunction','age':'Age','Diabetes':'Outcome'}, inplace=True)\n",
    "diabetes.columns"
   ]
  },
  {
   "cell_type": "code",
   "execution_count": 7,
   "id": "fe9d0b13",
   "metadata": {},
   "outputs": [
    {
     "name": "stdout",
     "output_type": "stream",
     "text": [
      "<class 'pandas.core.frame.DataFrame'>\n",
      "RangeIndex: 768 entries, 0 to 767\n",
      "Data columns (total 9 columns):\n",
      " #   Column                    Non-Null Count  Dtype  \n",
      "---  ------                    --------------  -----  \n",
      " 0   Pregnancies               768 non-null    int64  \n",
      " 1   Glucose                   768 non-null    int64  \n",
      " 2   BloodPressure             768 non-null    int64  \n",
      " 3   SkinThickness             768 non-null    int64  \n",
      " 4   Insulin                   768 non-null    int64  \n",
      " 5   BMI                       768 non-null    float64\n",
      " 6   DiabetesPedigreeFunction  768 non-null    float64\n",
      " 7   Age                       768 non-null    int64  \n",
      " 8   Outcome                   768 non-null    object \n",
      "dtypes: float64(2), int64(6), object(1)\n",
      "memory usage: 54.1+ KB\n"
     ]
    }
   ],
   "source": [
    "diabetes.info()"
   ]
  },
  {
   "cell_type": "code",
   "execution_count": 8,
   "id": "5b730dde",
   "metadata": {},
   "outputs": [
    {
     "data": {
      "text/html": [
       "<div>\n",
       "<style scoped>\n",
       "    .dataframe tbody tr th:only-of-type {\n",
       "        vertical-align: middle;\n",
       "    }\n",
       "\n",
       "    .dataframe tbody tr th {\n",
       "        vertical-align: top;\n",
       "    }\n",
       "\n",
       "    .dataframe thead th {\n",
       "        text-align: right;\n",
       "    }\n",
       "</style>\n",
       "<table border=\"1\" class=\"dataframe\">\n",
       "  <thead>\n",
       "    <tr style=\"text-align: right;\">\n",
       "      <th></th>\n",
       "      <th>Pregnancies</th>\n",
       "      <th>Glucose</th>\n",
       "      <th>BloodPressure</th>\n",
       "      <th>SkinThickness</th>\n",
       "      <th>Insulin</th>\n",
       "      <th>BMI</th>\n",
       "      <th>DiabetesPedigreeFunction</th>\n",
       "      <th>Age</th>\n",
       "      <th>Outcome</th>\n",
       "    </tr>\n",
       "  </thead>\n",
       "  <tbody>\n",
       "    <tr>\n",
       "      <th>0</th>\n",
       "      <td>6</td>\n",
       "      <td>148</td>\n",
       "      <td>72</td>\n",
       "      <td>35</td>\n",
       "      <td>0</td>\n",
       "      <td>33.6</td>\n",
       "      <td>0.627</td>\n",
       "      <td>50</td>\n",
       "      <td>1</td>\n",
       "    </tr>\n",
       "    <tr>\n",
       "      <th>1</th>\n",
       "      <td>1</td>\n",
       "      <td>85</td>\n",
       "      <td>66</td>\n",
       "      <td>29</td>\n",
       "      <td>0</td>\n",
       "      <td>26.6</td>\n",
       "      <td>0.351</td>\n",
       "      <td>31</td>\n",
       "      <td>0</td>\n",
       "    </tr>\n",
       "    <tr>\n",
       "      <th>2</th>\n",
       "      <td>8</td>\n",
       "      <td>183</td>\n",
       "      <td>64</td>\n",
       "      <td>0</td>\n",
       "      <td>0</td>\n",
       "      <td>23.3</td>\n",
       "      <td>0.672</td>\n",
       "      <td>32</td>\n",
       "      <td>1</td>\n",
       "    </tr>\n",
       "    <tr>\n",
       "      <th>3</th>\n",
       "      <td>1</td>\n",
       "      <td>89</td>\n",
       "      <td>66</td>\n",
       "      <td>23</td>\n",
       "      <td>94</td>\n",
       "      <td>28.1</td>\n",
       "      <td>0.167</td>\n",
       "      <td>21</td>\n",
       "      <td>0</td>\n",
       "    </tr>\n",
       "    <tr>\n",
       "      <th>4</th>\n",
       "      <td>0</td>\n",
       "      <td>137</td>\n",
       "      <td>40</td>\n",
       "      <td>35</td>\n",
       "      <td>168</td>\n",
       "      <td>43.1</td>\n",
       "      <td>2.288</td>\n",
       "      <td>33</td>\n",
       "      <td>1</td>\n",
       "    </tr>\n",
       "  </tbody>\n",
       "</table>\n",
       "</div>"
      ],
      "text/plain": [
       "   Pregnancies  Glucose  BloodPressure  SkinThickness  Insulin   BMI  \\\n",
       "0            6      148             72             35        0  33.6   \n",
       "1            1       85             66             29        0  26.6   \n",
       "2            8      183             64              0        0  23.3   \n",
       "3            1       89             66             23       94  28.1   \n",
       "4            0      137             40             35      168  43.1   \n",
       "\n",
       "   DiabetesPedigreeFunction  Age  Outcome  \n",
       "0                     0.627   50        1  \n",
       "1                     0.351   31        0  \n",
       "2                     0.672   32        1  \n",
       "3                     0.167   21        0  \n",
       "4                     2.288   33        1  "
      ]
     },
     "execution_count": 8,
     "metadata": {},
     "output_type": "execute_result"
    }
   ],
   "source": [
    "\n",
    "lb = LabelEncoder()\n",
    "diabetes['Outcome'] = lb.fit_transform(diabetes['Outcome'])\n",
    "diabetes.head()"
   ]
  },
  {
   "cell_type": "code",
   "execution_count": 9,
   "id": "6b98ee53",
   "metadata": {},
   "outputs": [
    {
     "data": {
      "text/plain": [
       "Pregnancies                   int64\n",
       "Glucose                       int64\n",
       "BloodPressure                 int64\n",
       "SkinThickness                 int64\n",
       "Insulin                       int64\n",
       "BMI                         float64\n",
       "DiabetesPedigreeFunction    float64\n",
       "Age                           int64\n",
       "Outcome                       int32\n",
       "dtype: object"
      ]
     },
     "execution_count": 9,
     "metadata": {},
     "output_type": "execute_result"
    }
   ],
   "source": [
    "diabetes.dtypes"
   ]
  },
  {
   "cell_type": "code",
   "execution_count": 10,
   "id": "a69341e3",
   "metadata": {},
   "outputs": [
    {
     "data": {
      "text/html": [
       "<div>\n",
       "<style scoped>\n",
       "    .dataframe tbody tr th:only-of-type {\n",
       "        vertical-align: middle;\n",
       "    }\n",
       "\n",
       "    .dataframe tbody tr th {\n",
       "        vertical-align: top;\n",
       "    }\n",
       "\n",
       "    .dataframe thead th {\n",
       "        text-align: right;\n",
       "    }\n",
       "</style>\n",
       "<table border=\"1\" class=\"dataframe\">\n",
       "  <thead>\n",
       "    <tr style=\"text-align: right;\">\n",
       "      <th></th>\n",
       "      <th>count</th>\n",
       "      <th>mean</th>\n",
       "      <th>std</th>\n",
       "      <th>min</th>\n",
       "      <th>25%</th>\n",
       "      <th>50%</th>\n",
       "      <th>75%</th>\n",
       "      <th>max</th>\n",
       "    </tr>\n",
       "  </thead>\n",
       "  <tbody>\n",
       "    <tr>\n",
       "      <th>Pregnancies</th>\n",
       "      <td>768.0</td>\n",
       "      <td>3.845052</td>\n",
       "      <td>3.369578</td>\n",
       "      <td>0.000</td>\n",
       "      <td>1.00000</td>\n",
       "      <td>3.0000</td>\n",
       "      <td>6.00000</td>\n",
       "      <td>17.00</td>\n",
       "    </tr>\n",
       "    <tr>\n",
       "      <th>Glucose</th>\n",
       "      <td>768.0</td>\n",
       "      <td>120.894531</td>\n",
       "      <td>31.972618</td>\n",
       "      <td>0.000</td>\n",
       "      <td>99.00000</td>\n",
       "      <td>117.0000</td>\n",
       "      <td>140.25000</td>\n",
       "      <td>199.00</td>\n",
       "    </tr>\n",
       "    <tr>\n",
       "      <th>BloodPressure</th>\n",
       "      <td>768.0</td>\n",
       "      <td>69.105469</td>\n",
       "      <td>19.355807</td>\n",
       "      <td>0.000</td>\n",
       "      <td>62.00000</td>\n",
       "      <td>72.0000</td>\n",
       "      <td>80.00000</td>\n",
       "      <td>122.00</td>\n",
       "    </tr>\n",
       "    <tr>\n",
       "      <th>SkinThickness</th>\n",
       "      <td>768.0</td>\n",
       "      <td>20.536458</td>\n",
       "      <td>15.952218</td>\n",
       "      <td>0.000</td>\n",
       "      <td>0.00000</td>\n",
       "      <td>23.0000</td>\n",
       "      <td>32.00000</td>\n",
       "      <td>99.00</td>\n",
       "    </tr>\n",
       "    <tr>\n",
       "      <th>Insulin</th>\n",
       "      <td>768.0</td>\n",
       "      <td>79.799479</td>\n",
       "      <td>115.244002</td>\n",
       "      <td>0.000</td>\n",
       "      <td>0.00000</td>\n",
       "      <td>30.5000</td>\n",
       "      <td>127.25000</td>\n",
       "      <td>846.00</td>\n",
       "    </tr>\n",
       "    <tr>\n",
       "      <th>BMI</th>\n",
       "      <td>768.0</td>\n",
       "      <td>31.992578</td>\n",
       "      <td>7.884160</td>\n",
       "      <td>0.000</td>\n",
       "      <td>27.30000</td>\n",
       "      <td>32.0000</td>\n",
       "      <td>36.60000</td>\n",
       "      <td>67.10</td>\n",
       "    </tr>\n",
       "    <tr>\n",
       "      <th>DiabetesPedigreeFunction</th>\n",
       "      <td>768.0</td>\n",
       "      <td>0.471876</td>\n",
       "      <td>0.331329</td>\n",
       "      <td>0.078</td>\n",
       "      <td>0.24375</td>\n",
       "      <td>0.3725</td>\n",
       "      <td>0.62625</td>\n",
       "      <td>2.42</td>\n",
       "    </tr>\n",
       "    <tr>\n",
       "      <th>Age</th>\n",
       "      <td>768.0</td>\n",
       "      <td>33.240885</td>\n",
       "      <td>11.760232</td>\n",
       "      <td>21.000</td>\n",
       "      <td>24.00000</td>\n",
       "      <td>29.0000</td>\n",
       "      <td>41.00000</td>\n",
       "      <td>81.00</td>\n",
       "    </tr>\n",
       "    <tr>\n",
       "      <th>Outcome</th>\n",
       "      <td>768.0</td>\n",
       "      <td>0.348958</td>\n",
       "      <td>0.476951</td>\n",
       "      <td>0.000</td>\n",
       "      <td>0.00000</td>\n",
       "      <td>0.0000</td>\n",
       "      <td>1.00000</td>\n",
       "      <td>1.00</td>\n",
       "    </tr>\n",
       "  </tbody>\n",
       "</table>\n",
       "</div>"
      ],
      "text/plain": [
       "                          count        mean         std     min       25%  \\\n",
       "Pregnancies               768.0    3.845052    3.369578   0.000   1.00000   \n",
       "Glucose                   768.0  120.894531   31.972618   0.000  99.00000   \n",
       "BloodPressure             768.0   69.105469   19.355807   0.000  62.00000   \n",
       "SkinThickness             768.0   20.536458   15.952218   0.000   0.00000   \n",
       "Insulin                   768.0   79.799479  115.244002   0.000   0.00000   \n",
       "BMI                       768.0   31.992578    7.884160   0.000  27.30000   \n",
       "DiabetesPedigreeFunction  768.0    0.471876    0.331329   0.078   0.24375   \n",
       "Age                       768.0   33.240885   11.760232  21.000  24.00000   \n",
       "Outcome                   768.0    0.348958    0.476951   0.000   0.00000   \n",
       "\n",
       "                               50%        75%     max  \n",
       "Pregnancies                 3.0000    6.00000   17.00  \n",
       "Glucose                   117.0000  140.25000  199.00  \n",
       "BloodPressure              72.0000   80.00000  122.00  \n",
       "SkinThickness              23.0000   32.00000   99.00  \n",
       "Insulin                    30.5000  127.25000  846.00  \n",
       "BMI                        32.0000   36.60000   67.10  \n",
       "DiabetesPedigreeFunction    0.3725    0.62625    2.42  \n",
       "Age                        29.0000   41.00000   81.00  \n",
       "Outcome                     0.0000    1.00000    1.00  "
      ]
     },
     "execution_count": 10,
     "metadata": {},
     "output_type": "execute_result"
    }
   ],
   "source": [
    "diabetes.describe().T"
   ]
  },
  {
   "cell_type": "markdown",
   "id": "e85c3530",
   "metadata": {},
   "source": [
    "Following columns or variables have an invalid zero value:\n",
    "\n",
    "Glucose,\n",
    "BloodPressure,\n",
    "SkinThickness,\n",
    "Insulin,\n",
    "BMI.\n",
    "\n",
    "On these columns, a value of zero does not make sense and thus indicates missing value."
   ]
  },
  {
   "cell_type": "code",
   "execution_count": 11,
   "id": "6b730c8d",
   "metadata": {},
   "outputs": [],
   "source": [
    "col=['Glucose' ,'BloodPressure' ,'SkinThickness', 'Insulin' ,'BMI']\n",
    "for i in col:\n",
    "    diabetes[i].replace(0,diabetes[i].mean(),inplace=True)"
   ]
  },
  {
   "cell_type": "code",
   "execution_count": 12,
   "id": "71a6ac46",
   "metadata": {},
   "outputs": [
    {
     "data": {
      "text/plain": [
       "Pregnancies                 False\n",
       "Glucose                     False\n",
       "BloodPressure               False\n",
       "SkinThickness               False\n",
       "Insulin                     False\n",
       "BMI                         False\n",
       "DiabetesPedigreeFunction    False\n",
       "Age                         False\n",
       "Outcome                     False\n",
       "dtype: bool"
      ]
     },
     "execution_count": 12,
     "metadata": {},
     "output_type": "execute_result"
    }
   ],
   "source": [
    "diabetes.isnull().any()"
   ]
  },
  {
   "cell_type": "code",
   "execution_count": 13,
   "id": "40ebcc8d",
   "metadata": {},
   "outputs": [
    {
     "data": {
      "text/plain": [
       "0    500\n",
       "1    268\n",
       "Name: Outcome, dtype: int64"
      ]
     },
     "execution_count": 13,
     "metadata": {},
     "output_type": "execute_result"
    }
   ],
   "source": [
    "diabetes['Outcome'].value_counts()"
   ]
  },
  {
   "cell_type": "code",
   "execution_count": 14,
   "id": "1b3bb279",
   "metadata": {},
   "outputs": [
    {
     "data": {
      "text/plain": [
       "0"
      ]
     },
     "execution_count": 14,
     "metadata": {},
     "output_type": "execute_result"
    }
   ],
   "source": [
    "diabetes.duplicated().sum()"
   ]
  },
  {
   "cell_type": "code",
   "execution_count": 15,
   "id": "41b89c64",
   "metadata": {},
   "outputs": [
    {
     "data": {
      "image/png": "[encoded data removed]",
      "text/plain": [
       "<Figure size 1440x720 with 8 Axes>"
      ]
     },
     "metadata": {
      "needs_background": "light"
     },
     "output_type": "display_data"
    }
   ],
   "source": [
    "index = 0\n",
    "plt.figure(figsize=(20, 10))\n",
    "for feature in diabetes.columns:\n",
    "    if feature != \"Outcome\":\n",
    "        index += 1\n",
    "        plt.subplot(3, 3, index)\n",
    "        sns.boxplot(diabetes[feature])\n",
    "\n",
    "plt.tight_layout()\n",
    "plt.show()"
   ]
  },
  {
   "cell_type": "markdown",
   "id": "d2f33865",
   "metadata": {},
   "source": [
    "To remove some outliers:"
   ]
  },
  {
   "cell_type": "code",
   "execution_count": 16,
   "id": "945f129e",
   "metadata": {},
   "outputs": [
    {
     "data": {
      "text/plain": [
       "0    498\n",
       "1    266\n",
       "Name: Outcome, dtype: int64"
      ]
     },
     "execution_count": 16,
     "metadata": {},
     "output_type": "execute_result"
    }
   ],
   "source": [
    "diabetes = diabetes[(diabetes.SkinThickness < 70) & (diabetes.Glucose > 0) & (diabetes.BloodPressure > 35) & (diabetes.BMI > 0)]\n",
    "diabetes.Outcome.value_counts()"
   ]
  },
  {
   "cell_type": "code",
   "execution_count": 17,
   "id": "12668c33",
   "metadata": {},
   "outputs": [
    {
     "data": {
      "image/png": "[encoded data removed]",
      "text/plain": [
       "<Figure size 1440x720 with 8 Axes>"
      ]
     },
     "metadata": {
      "needs_background": "light"
     },
     "output_type": "display_data"
    }
   ],
   "source": [
    "index = 0\n",
    "plt.figure(figsize=(20, 10))\n",
    "for feature in diabetes.columns:\n",
    "    if feature != \"Outcome\":\n",
    "        index += 1\n",
    "        plt.subplot(3, 3, index)\n",
    "        sns.boxplot(diabetes[feature])\n",
    "\n",
    "plt.tight_layout()\n",
    "plt.show()"
   ]
  },
  {
   "cell_type": "markdown",
   "id": "c393569b",
   "metadata": {},
   "source": [
    "# Visualization"
   ]
  },
  {
   "cell_type": "code",
   "execution_count": 18,
   "id": "2a83c9c6",
   "metadata": {},
   "outputs": [
    {
     "data": {
      "text/plain": [
       "0    498\n",
       "1    266\n",
       "Name: Outcome, dtype: int64"
      ]
     },
     "execution_count": 18,
     "metadata": {},
     "output_type": "execute_result"
    }
   ],
   "source": [
    "diabetes['Outcome'].value_counts()"
   ]
  },
  {
   "cell_type": "code",
   "execution_count": 19,
   "id": "a2db7762",
   "metadata": {},
   "outputs": [
    {
     "data": {
      "text/plain": [
       "Outcome  Pregnancies\n",
       "0        1              104\n",
       "         2               84\n",
       "         0               73\n",
       "         3               48\n",
       "         4               45\n",
       "         5               36\n",
       "         6               34\n",
       "         7               20\n",
       "         8               16\n",
       "         10              14\n",
       "         9               10\n",
       "         12               5\n",
       "         13               5\n",
       "         11               4\n",
       "1        0               38\n",
       "         1               28\n",
       "         3               27\n",
       "         7               25\n",
       "         4               23\n",
       "         8               22\n",
       "         5               21\n",
       "         2               18\n",
       "         9               18\n",
       "         6               16\n",
       "         10              10\n",
       "         11               7\n",
       "         13               5\n",
       "         12               4\n",
       "         14               2\n",
       "         15               1\n",
       "         17               1\n",
       "Name: Pregnancies, dtype: int64"
      ]
     },
     "execution_count": 19,
     "metadata": {},
     "output_type": "execute_result"
    }
   ],
   "source": [
    "diabetes.groupby('Outcome')['Pregnancies'].value_counts()"
   ]
  },
  {
   "cell_type": "code",
   "execution_count": 20,
   "id": "5d883e47",
   "metadata": {},
   "outputs": [
    {
     "data": {
      "text/plain": [
       "70.000000    56\n",
       "74.000000    52\n",
       "78.000000    45\n",
       "68.000000    45\n",
       "72.000000    44\n",
       "64.000000    43\n",
       "80.000000    40\n",
       "76.000000    39\n",
       "60.000000    37\n",
       "69.105469    35\n",
       "Name: BloodPressure, dtype: int64"
      ]
     },
     "execution_count": 20,
     "metadata": {},
     "output_type": "execute_result"
    }
   ],
   "source": [
    "diabetes['BloodPressure'].value_counts().sort_values(ascending=False).head(10)"
   ]
  },
  {
   "cell_type": "code",
   "execution_count": 21,
   "id": "dbae99ff",
   "metadata": {},
   "outputs": [
    {
     "data": {
      "text/html": [
       "<div>\n",
       "<style scoped>\n",
       "    .dataframe tbody tr th:only-of-type {\n",
       "        vertical-align: middle;\n",
       "    }\n",
       "\n",
       "    .dataframe tbody tr th {\n",
       "        vertical-align: top;\n",
       "    }\n",
       "\n",
       "    .dataframe thead th {\n",
       "        text-align: right;\n",
       "    }\n",
       "</style>\n",
       "<table border=\"1\" class=\"dataframe\">\n",
       "  <thead>\n",
       "    <tr style=\"text-align: right;\">\n",
       "      <th></th>\n",
       "      <th>Outcome</th>\n",
       "    </tr>\n",
       "    <tr>\n",
       "      <th>BloodPressure</th>\n",
       "      <th></th>\n",
       "    </tr>\n",
       "  </thead>\n",
       "  <tbody>\n",
       "    <tr>\n",
       "      <th>(38, 76]</th>\n",
       "      <td>513</td>\n",
       "    </tr>\n",
       "    <tr>\n",
       "      <th>(76, 122]</th>\n",
       "      <td>250</td>\n",
       "    </tr>\n",
       "  </tbody>\n",
       "</table>\n",
       "</div>"
      ],
      "text/plain": [
       "               Outcome\n",
       "BloodPressure         \n",
       "(38, 76]           513\n",
       "(76, 122]          250"
      ]
     },
     "execution_count": 21,
     "metadata": {},
     "output_type": "execute_result"
    }
   ],
   "source": [
    "bp = pd.cut(diabetes['BloodPressure'],[38,76,122])\n",
    "diabetes.pivot_table('Outcome',bp,aggfunc = 'count')"
   ]
  },
  {
   "cell_type": "code",
   "execution_count": 22,
   "id": "c9ca4155",
   "metadata": {},
   "outputs": [
    {
     "data": {
      "text/html": [
       "<div>\n",
       "<style scoped>\n",
       "    .dataframe tbody tr th:only-of-type {\n",
       "        vertical-align: middle;\n",
       "    }\n",
       "\n",
       "    .dataframe tbody tr th {\n",
       "        vertical-align: top;\n",
       "    }\n",
       "\n",
       "    .dataframe thead th {\n",
       "        text-align: right;\n",
       "    }\n",
       "</style>\n",
       "<table border=\"1\" class=\"dataframe\">\n",
       "  <thead>\n",
       "    <tr style=\"text-align: right;\">\n",
       "      <th></th>\n",
       "      <th>Outcome</th>\n",
       "    </tr>\n",
       "    <tr>\n",
       "      <th>Age</th>\n",
       "      <th></th>\n",
       "    </tr>\n",
       "  </thead>\n",
       "  <tbody>\n",
       "    <tr>\n",
       "      <th>(21, 50]</th>\n",
       "      <td>622</td>\n",
       "    </tr>\n",
       "    <tr>\n",
       "      <th>(50, 81]</th>\n",
       "      <td>80</td>\n",
       "    </tr>\n",
       "  </tbody>\n",
       "</table>\n",
       "</div>"
      ],
      "text/plain": [
       "          Outcome\n",
       "Age              \n",
       "(21, 50]      622\n",
       "(50, 81]       80"
      ]
     },
     "execution_count": 22,
     "metadata": {},
     "output_type": "execute_result"
    }
   ],
   "source": [
    "age = pd.cut(diabetes['Age'],[21,50,81])\n",
    "diabetes.pivot_table('Outcome',age,aggfunc = 'count')"
   ]
  },
  {
   "cell_type": "code",
   "execution_count": 23,
   "id": "23c5c9eb",
   "metadata": {},
   "outputs": [
    {
     "data": {
      "text/html": [
       "<style  type=\"text/css\" >\n",
       "#T_28319_row0_col0,#T_28319_row1_col1,#T_28319_row2_col2,#T_28319_row3_col3,#T_28319_row4_col4,#T_28319_row5_col5,#T_28319_row6_col6,#T_28319_row7_col7,#T_28319_row8_col8{\n",
       "            background-color:  #08306b;\n",
       "            color:  #f1f1f1;\n",
       "        }#T_28319_row0_col1,#T_28319_row0_col4,#T_28319_row0_col5,#T_28319_row0_col6,#T_28319_row2_col8,#T_28319_row3_col7,#T_28319_row3_col8,#T_28319_row6_col0,#T_28319_row6_col2,#T_28319_row7_col3,#T_28319_row7_col5{\n",
       "            background-color:  #f7fbff;\n",
       "            color:  #000000;\n",
       "        }#T_28319_row0_col2{\n",
       "            background-color:  #cfe1f2;\n",
       "            color:  #000000;\n",
       "        }#T_28319_row0_col3,#T_28319_row4_col8{\n",
       "            background-color:  #f4f9fe;\n",
       "            color:  #000000;\n",
       "        }#T_28319_row0_col7{\n",
       "            background-color:  #5ca4d0;\n",
       "            color:  #000000;\n",
       "        }#T_28319_row0_col8{\n",
       "            background-color:  #eaf2fb;\n",
       "            color:  #000000;\n",
       "        }#T_28319_row1_col0,#T_28319_row3_col2,#T_28319_row6_col3{\n",
       "            background-color:  #d8e7f5;\n",
       "            color:  #000000;\n",
       "        }#T_28319_row1_col2,#T_28319_row1_col5{\n",
       "            background-color:  #cddff1;\n",
       "            color:  #000000;\n",
       "        }#T_28319_row1_col3{\n",
       "            background-color:  #dbe9f6;\n",
       "            color:  #000000;\n",
       "        }#T_28319_row1_col4{\n",
       "            background-color:  #8fc2de;\n",
       "            color:  #000000;\n",
       "        }#T_28319_row1_col6,#T_28319_row8_col3{\n",
       "            background-color:  #d6e6f4;\n",
       "            color:  #000000;\n",
       "        }#T_28319_row1_col7{\n",
       "            background-color:  #c4daee;\n",
       "            color:  #000000;\n",
       "        }#T_28319_row1_col8{\n",
       "            background-color:  #97c6df;\n",
       "            color:  #000000;\n",
       "        }#T_28319_row2_col0{\n",
       "            background-color:  #cadef0;\n",
       "            color:  #000000;\n",
       "        }#T_28319_row2_col1{\n",
       "            background-color:  #e3eef9;\n",
       "            color:  #000000;\n",
       "        }#T_28319_row2_col3{\n",
       "            background-color:  #d9e7f5;\n",
       "            color:  #000000;\n",
       "        }#T_28319_row2_col4,#T_28319_row3_col1{\n",
       "            background-color:  #f3f8fe;\n",
       "            color:  #000000;\n",
       "        }#T_28319_row2_col5,#T_28319_row8_col5{\n",
       "            background-color:  #b9d6ea;\n",
       "            color:  #000000;\n",
       "        }#T_28319_row2_col6,#T_28319_row6_col7{\n",
       "            background-color:  #f2f7fd;\n",
       "            color:  #000000;\n",
       "        }#T_28319_row2_col7{\n",
       "            background-color:  #aed1e7;\n",
       "            color:  #000000;\n",
       "        }#T_28319_row3_col0{\n",
       "            background-color:  #edf4fc;\n",
       "            color:  #000000;\n",
       "        }#T_28319_row3_col4{\n",
       "            background-color:  #bfd8ed;\n",
       "            color:  #000000;\n",
       "        }#T_28319_row3_col5{\n",
       "            background-color:  #5fa6d1;\n",
       "            color:  #000000;\n",
       "        }#T_28319_row3_col6{\n",
       "            background-color:  #d2e3f3;\n",
       "            color:  #000000;\n",
       "        }#T_28319_row4_col0{\n",
       "            background-color:  #f5f9fe;\n",
       "            color:  #000000;\n",
       "        }#T_28319_row4_col1,#T_28319_row5_col2{\n",
       "            background-color:  #b3d3e8;\n",
       "            color:  #000000;\n",
       "        }#T_28319_row4_col2{\n",
       "            background-color:  #f6faff;\n",
       "            color:  #000000;\n",
       "        }#T_28319_row4_col3{\n",
       "            background-color:  #c6dbef;\n",
       "            color:  #000000;\n",
       "        }#T_28319_row4_col5,#T_28319_row8_col2{\n",
       "            background-color:  #d6e5f4;\n",
       "            color:  #000000;\n",
       "        }#T_28319_row4_col6,#T_28319_row5_col6{\n",
       "            background-color:  #d3e3f3;\n",
       "            color:  #000000;\n",
       "        }#T_28319_row4_col7{\n",
       "            background-color:  #f0f6fd;\n",
       "            color:  #000000;\n",
       "        }#T_28319_row5_col0{\n",
       "            background-color:  #ebf3fb;\n",
       "            color:  #000000;\n",
       "        }#T_28319_row5_col1{\n",
       "            background-color:  #deebf7;\n",
       "            color:  #000000;\n",
       "        }#T_28319_row5_col3{\n",
       "            background-color:  #5ba3d0;\n",
       "            color:  #000000;\n",
       "        }#T_28319_row5_col4{\n",
       "            background-color:  #cee0f2;\n",
       "            color:  #000000;\n",
       "        }#T_28319_row5_col7{\n",
       "            background-color:  #f2f8fd;\n",
       "            color:  #000000;\n",
       "        }#T_28319_row5_col8,#T_28319_row6_col4{\n",
       "            background-color:  #d5e5f4;\n",
       "            color:  #000000;\n",
       "        }#T_28319_row6_col1,#T_28319_row6_col8{\n",
       "            background-color:  #f5fafe;\n",
       "            color:  #000000;\n",
       "        }#T_28319_row6_col5{\n",
       "            background-color:  #dceaf6;\n",
       "            color:  #000000;\n",
       "        }#T_28319_row7_col0{\n",
       "            background-color:  #56a0ce;\n",
       "            color:  #000000;\n",
       "        }#T_28319_row7_col1{\n",
       "            background-color:  #d9e8f5;\n",
       "            color:  #000000;\n",
       "        }#T_28319_row7_col2{\n",
       "            background-color:  #add0e6;\n",
       "            color:  #000000;\n",
       "        }#T_28319_row7_col4{\n",
       "            background-color:  #ecf4fb;\n",
       "            color:  #000000;\n",
       "        }#T_28319_row7_col6{\n",
       "            background-color:  #eaf3fb;\n",
       "            color:  #000000;\n",
       "        }#T_28319_row7_col8{\n",
       "            background-color:  #e7f0fa;\n",
       "            color:  #000000;\n",
       "        }#T_28319_row8_col0{\n",
       "            background-color:  #c7dbef;\n",
       "            color:  #000000;\n",
       "        }#T_28319_row8_col1{\n",
       "            background-color:  #8cc0dd;\n",
       "            color:  #000000;\n",
       "        }#T_28319_row8_col4{\n",
       "            background-color:  #d0e2f2;\n",
       "            color:  #000000;\n",
       "        }#T_28319_row8_col6{\n",
       "            background-color:  #d0e1f2;\n",
       "            color:  #000000;\n",
       "        }#T_28319_row8_col7{\n",
       "            background-color:  #caddf0;\n",
       "            color:  #000000;\n",
       "        }</style><table id=\"T_28319_\" ><thead>    <tr>        <th class=\"blank level0\" ></th>        <th class=\"col_heading level0 col0\" >Pregnancies</th>        <th class=\"col_heading level0 col1\" >Glucose</th>        <th class=\"col_heading level0 col2\" >BloodPressure</th>        <th class=\"col_heading level0 col3\" >SkinThickness</th>        <th class=\"col_heading level0 col4\" >Insulin</th>        <th class=\"col_heading level0 col5\" >BMI</th>        <th class=\"col_heading level0 col6\" >DiabetesPedigreeFunction</th>        <th class=\"col_heading level0 col7\" >Age</th>        <th class=\"col_heading level0 col8\" >Outcome</th>    </tr></thead><tbody>\n",
       "                <tr>\n",
       "                        <th id=\"T_28319_level0_row0\" class=\"row_heading level0 row0\" >Pregnancies</th>\n",
       "                        <td id=\"T_28319_row0_col0\" class=\"data row0 col0\" >1.000000</td>\n",
       "                        <td id=\"T_28319_row0_col1\" class=\"data row0 col1\" >0.127596</td>\n",
       "                        <td id=\"T_28319_row0_col2\" class=\"data row0 col2\" >0.202446</td>\n",
       "                        <td id=\"T_28319_row0_col3\" class=\"data row0 col3\" >0.021910</td>\n",
       "                        <td id=\"T_28319_row0_col4\" class=\"data row0 col4\" >-0.020203</td>\n",
       "                        <td id=\"T_28319_row0_col5\" class=\"data row0 col5\" >0.026690</td>\n",
       "                        <td id=\"T_28319_row0_col6\" class=\"data row0 col6\" >-0.033967</td>\n",
       "                        <td id=\"T_28319_row0_col7\" class=\"data row0 col7\" >0.547781</td>\n",
       "                        <td id=\"T_28319_row0_col8\" class=\"data row0 col8\" >0.223829</td>\n",
       "            </tr>\n",
       "            <tr>\n",
       "                        <th id=\"T_28319_level0_row1\" class=\"row_heading level0 row1\" >Glucose</th>\n",
       "                        <td id=\"T_28319_row1_col0\" class=\"data row1 col0\" >0.127596</td>\n",
       "                        <td id=\"T_28319_row1_col1\" class=\"data row1 col1\" >1.000000</td>\n",
       "                        <td id=\"T_28319_row1_col2\" class=\"data row1 col2\" >0.213773</td>\n",
       "                        <td id=\"T_28319_row1_col3\" class=\"data row1 col3\" >0.145397</td>\n",
       "                        <td id=\"T_28319_row1_col4\" class=\"data row1 col4\" >0.398594</td>\n",
       "                        <td id=\"T_28319_row1_col5\" class=\"data row1 col5\" >0.239013</td>\n",
       "                        <td id=\"T_28319_row1_col6\" class=\"data row1 col6\" >0.136754</td>\n",
       "                        <td id=\"T_28319_row1_col7\" class=\"data row1 col7\" >0.259105</td>\n",
       "                        <td id=\"T_28319_row1_col8\" class=\"data row1 col8\" >0.493265</td>\n",
       "            </tr>\n",
       "            <tr>\n",
       "                        <th id=\"T_28319_level0_row2\" class=\"row_heading level0 row2\" >BloodPressure</th>\n",
       "                        <td id=\"T_28319_row2_col0\" class=\"data row2 col0\" >0.202446</td>\n",
       "                        <td id=\"T_28319_row2_col1\" class=\"data row2 col1\" >0.213773</td>\n",
       "                        <td id=\"T_28319_row2_col2\" class=\"data row2 col2\" >1.000000</td>\n",
       "                        <td id=\"T_28319_row2_col3\" class=\"data row2 col3\" >0.154983</td>\n",
       "                        <td id=\"T_28319_row2_col4\" class=\"data row2 col4\" >0.002940</td>\n",
       "                        <td id=\"T_28319_row2_col5\" class=\"data row2 col5\" >0.311013</td>\n",
       "                        <td id=\"T_28319_row2_col6\" class=\"data row2 col6\" >-0.001877</td>\n",
       "                        <td id=\"T_28319_row2_col7\" class=\"data row2 col7\" >0.329399</td>\n",
       "                        <td id=\"T_28319_row2_col8\" class=\"data row2 col8\" >0.167400</td>\n",
       "            </tr>\n",
       "            <tr>\n",
       "                        <th id=\"T_28319_level0_row3\" class=\"row_heading level0 row3\" >SkinThickness</th>\n",
       "                        <td id=\"T_28319_row3_col0\" class=\"data row3 col0\" >0.021910</td>\n",
       "                        <td id=\"T_28319_row3_col1\" class=\"data row3 col1\" >0.145397</td>\n",
       "                        <td id=\"T_28319_row3_col2\" class=\"data row3 col2\" >0.154983</td>\n",
       "                        <td id=\"T_28319_row3_col3\" class=\"data row3 col3\" >1.000000</td>\n",
       "                        <td id=\"T_28319_row3_col4\" class=\"data row3 col4\" >0.255088</td>\n",
       "                        <td id=\"T_28319_row3_col5\" class=\"data row3 col5\" >0.549618</td>\n",
       "                        <td id=\"T_28319_row3_col6\" class=\"data row3 col6\" >0.159987</td>\n",
       "                        <td id=\"T_28319_row3_col7\" class=\"data row3 col7\" >0.002816</td>\n",
       "                        <td id=\"T_28319_row3_col8\" class=\"data row3 col8\" >0.166437</td>\n",
       "            </tr>\n",
       "            <tr>\n",
       "                        <th id=\"T_28319_level0_row4\" class=\"row_heading level0 row4\" >Insulin</th>\n",
       "                        <td id=\"T_28319_row4_col0\" class=\"data row4 col0\" >-0.020203</td>\n",
       "                        <td id=\"T_28319_row4_col1\" class=\"data row4 col1\" >0.398594</td>\n",
       "                        <td id=\"T_28319_row4_col2\" class=\"data row4 col2\" >0.002940</td>\n",
       "                        <td id=\"T_28319_row4_col3\" class=\"data row4 col3\" >0.255088</td>\n",
       "                        <td id=\"T_28319_row4_col4\" class=\"data row4 col4\" >1.000000</td>\n",
       "                        <td id=\"T_28319_row4_col5\" class=\"data row4 col5\" >0.192772</td>\n",
       "                        <td id=\"T_28319_row4_col6\" class=\"data row4 col6\" >0.158143</td>\n",
       "                        <td id=\"T_28319_row4_col7\" class=\"data row4 col7\" >0.038663</td>\n",
       "                        <td id=\"T_28319_row4_col8\" class=\"data row4 col8\" >0.179708</td>\n",
       "            </tr>\n",
       "            <tr>\n",
       "                        <th id=\"T_28319_level0_row5\" class=\"row_heading level0 row5\" >BMI</th>\n",
       "                        <td id=\"T_28319_row5_col0\" class=\"data row5 col0\" >0.026690</td>\n",
       "                        <td id=\"T_28319_row5_col1\" class=\"data row5 col1\" >0.239013</td>\n",
       "                        <td id=\"T_28319_row5_col2\" class=\"data row5 col2\" >0.311013</td>\n",
       "                        <td id=\"T_28319_row5_col3\" class=\"data row5 col3\" >0.549618</td>\n",
       "                        <td id=\"T_28319_row5_col4\" class=\"data row5 col4\" >0.192772</td>\n",
       "                        <td id=\"T_28319_row5_col5\" class=\"data row5 col5\" >1.000000</td>\n",
       "                        <td id=\"T_28319_row5_col6\" class=\"data row5 col6\" >0.156605</td>\n",
       "                        <td id=\"T_28319_row5_col7\" class=\"data row5 col7\" >0.026829</td>\n",
       "                        <td id=\"T_28319_row5_col8\" class=\"data row5 col8\" >0.310463</td>\n",
       "            </tr>\n",
       "            <tr>\n",
       "                        <th id=\"T_28319_level0_row6\" class=\"row_heading level0 row6\" >DiabetesPedigreeFunction</th>\n",
       "                        <td id=\"T_28319_row6_col0\" class=\"data row6 col0\" >-0.033967</td>\n",
       "                        <td id=\"T_28319_row6_col1\" class=\"data row6 col1\" >0.136754</td>\n",
       "                        <td id=\"T_28319_row6_col2\" class=\"data row6 col2\" >-0.001877</td>\n",
       "                        <td id=\"T_28319_row6_col3\" class=\"data row6 col3\" >0.159987</td>\n",
       "                        <td id=\"T_28319_row6_col4\" class=\"data row6 col4\" >0.158143</td>\n",
       "                        <td id=\"T_28319_row6_col5\" class=\"data row6 col5\" >0.156605</td>\n",
       "                        <td id=\"T_28319_row6_col6\" class=\"data row6 col6\" >1.000000</td>\n",
       "                        <td id=\"T_28319_row6_col7\" class=\"data row6 col7\" >0.033143</td>\n",
       "                        <td id=\"T_28319_row6_col8\" class=\"data row6 col8\" >0.173228</td>\n",
       "            </tr>\n",
       "            <tr>\n",
       "                        <th id=\"T_28319_level0_row7\" class=\"row_heading level0 row7\" >Age</th>\n",
       "                        <td id=\"T_28319_row7_col0\" class=\"data row7 col0\" >0.547781</td>\n",
       "                        <td id=\"T_28319_row7_col1\" class=\"data row7 col1\" >0.259105</td>\n",
       "                        <td id=\"T_28319_row7_col2\" class=\"data row7 col2\" >0.329399</td>\n",
       "                        <td id=\"T_28319_row7_col3\" class=\"data row7 col3\" >0.002816</td>\n",
       "                        <td id=\"T_28319_row7_col4\" class=\"data row7 col4\" >0.038663</td>\n",
       "                        <td id=\"T_28319_row7_col5\" class=\"data row7 col5\" >0.026829</td>\n",
       "                        <td id=\"T_28319_row7_col6\" class=\"data row7 col6\" >0.033143</td>\n",
       "                        <td id=\"T_28319_row7_col7\" class=\"data row7 col7\" >1.000000</td>\n",
       "                        <td id=\"T_28319_row7_col8\" class=\"data row7 col8\" >0.235969</td>\n",
       "            </tr>\n",
       "            <tr>\n",
       "                        <th id=\"T_28319_level0_row8\" class=\"row_heading level0 row8\" >Outcome</th>\n",
       "                        <td id=\"T_28319_row8_col0\" class=\"data row8 col0\" >0.223829</td>\n",
       "                        <td id=\"T_28319_row8_col1\" class=\"data row8 col1\" >0.493265</td>\n",
       "                        <td id=\"T_28319_row8_col2\" class=\"data row8 col2\" >0.167400</td>\n",
       "                        <td id=\"T_28319_row8_col3\" class=\"data row8 col3\" >0.166437</td>\n",
       "                        <td id=\"T_28319_row8_col4\" class=\"data row8 col4\" >0.179708</td>\n",
       "                        <td id=\"T_28319_row8_col5\" class=\"data row8 col5\" >0.310463</td>\n",
       "                        <td id=\"T_28319_row8_col6\" class=\"data row8 col6\" >0.173228</td>\n",
       "                        <td id=\"T_28319_row8_col7\" class=\"data row8 col7\" >0.235969</td>\n",
       "                        <td id=\"T_28319_row8_col8\" class=\"data row8 col8\" >1.000000</td>\n",
       "            </tr>\n",
       "    </tbody></table>"
      ],
      "text/plain": [
       "<pandas.io.formats.style.Styler at 0x10ce3f507f0>"
      ]
     },
     "execution_count": 23,
     "metadata": {},
     "output_type": "execute_result"
    }
   ],
   "source": [
    "corr = diabetes.corr()\n",
    "corr.style.background_gradient(cmap='Blues')"
   ]
  },
  {
   "cell_type": "markdown",
   "id": "6d4029b8",
   "metadata": {},
   "source": [
    "# Plots"
   ]
  },
  {
   "cell_type": "code",
   "execution_count": 24,
   "id": "5e181766",
   "metadata": {},
   "outputs": [
    {
     "data": {
      "image/png": "[encoded data removed]",
      "text/plain": [
       "<Figure size 432x288 with 1 Axes>"
      ]
     },
     "metadata": {
      "needs_background": "light"
     },
     "output_type": "display_data"
    }
   ],
   "source": [
    "diabetes['Outcome'].value_counts().plot(kind = 'bar',color = ['red','brown'])\n",
    "plt.xticks(np.arange(2),('No diabetes','Diabetes'),rotation = 0)\n",
    "plt.title(\"Outcome Diabetes\")\n",
    "plt.ylabel('Count')\n",
    "plt.show()"
   ]
  },
  {
   "cell_type": "code",
   "execution_count": 25,
   "id": "dfde9d95",
   "metadata": {},
   "outputs": [
    {
     "data": {
      "image/png": "[encoded data removed]",
      "text/plain": [
       "<Figure size 504x360 with 1 Axes>"
      ]
     },
     "metadata": {},
     "output_type": "display_data"
    }
   ],
   "source": [
    "fig,ax = plt.subplots( figsize=(7,5) )\n",
    "diabetes['Outcome'].value_counts(sort=False).plot(kind='pie',autopct='%1.1f%%', fontsize= 20,startangle=120)\n",
    "plt.legend(['Non Diabeties','Diabetes'])\n",
    "plt.show()"
   ]
  },
  {
   "cell_type": "code",
   "execution_count": 26,
   "id": "45eaf715",
   "metadata": {},
   "outputs": [
    {
     "data": {
      "image/png": "[encoded data removed]",
      "text/plain": [
       "<Figure size 864x720 with 8 Axes>"
      ]
     },
     "metadata": {},
     "output_type": "display_data"
    }
   ],
   "source": [
    "sns.set(style=\"darkgrid\")\n",
    "fig, ax = plt.subplots(nrows=4, ncols=2, figsize=(12, 10))\n",
    "fig.tight_layout(pad=3.0)\n",
    "ax[0,0].set_title('Glucose')\n",
    "ax[0,0].hist(diabetes.Glucose[diabetes.Outcome==1]);\n",
    "ax[0,1].set_title('Pregnancies')\n",
    "ax[0,1].hist(diabetes.Pregnancies[diabetes.Outcome==1]);\n",
    "ax[1,0].set_title('Age')\n",
    "ax[1,0].hist(diabetes.Age[diabetes.Outcome==1]);\n",
    "ax[1,1].set_title('Blood Pressure')\n",
    "ax[1,1].hist(diabetes.BloodPressure[diabetes.Outcome==1]);\n",
    "ax[2,0].set_title('Skin Thickness')\n",
    "ax[2,0].hist(diabetes.SkinThickness[diabetes.Outcome==1]);\n",
    "ax[2,1].set_title('Insulin')\n",
    "ax[2,1].hist(diabetes.Insulin[diabetes.Outcome==1]);\n",
    "ax[3,0].set_title('BMI')\n",
    "ax[3,0].hist(diabetes.BMI[diabetes.Outcome==1]);\n",
    "ax[3,1].set_title('Diabetes Pedigree Function')\n",
    "ax[3,1].hist(diabetes.DiabetesPedigreeFunction[diabetes.Outcome==1]);"
   ]
  },
  {
   "cell_type": "markdown",
   "id": "a7279d49",
   "metadata": {},
   "source": [
    "Comment: \n",
    "1) Maximum Glucose for diabetic person is 120.\n",
    "\n",
    "2) High Blood pressure for diabetic person is between 70 to approximate 76."
   ]
  },
  {
   "cell_type": "code",
   "execution_count": 27,
   "id": "8f6df1d6",
   "metadata": {},
   "outputs": [
    {
     "data": {
      "text/plain": [
       "<AxesSubplot:xlabel='Pregnancies', ylabel='count'>"
      ]
     },
     "execution_count": 27,
     "metadata": {},
     "output_type": "execute_result"
    },
    {
     "data": {
      "image/png": "[encoded data removed]",
      "text/plain": [
       "<Figure size 432x288 with 1 Axes>"
      ]
     },
     "metadata": {},
     "output_type": "display_data"
    }
   ],
   "source": [
    "sns.countplot('Pregnancies',data=diabetes)"
   ]
  },
  {
   "cell_type": "code",
   "execution_count": 28,
   "id": "ae81c87c",
   "metadata": {},
   "outputs": [
    {
     "data": {
      "text/plain": [
       "<AxesSubplot:xlabel='Pregnancies', ylabel='count'>"
      ]
     },
     "execution_count": 28,
     "metadata": {},
     "output_type": "execute_result"
    },
    {
     "data": {
      "image/png": "[encoded data removed]",
      "text/plain": [
       "<Figure size 432x288 with 1 Axes>"
      ]
     },
     "metadata": {},
     "output_type": "display_data"
    }
   ],
   "source": [
    "sns.countplot(x ='Pregnancies', hue = \"Outcome\", data = diabetes)"
   ]
  },
  {
   "cell_type": "code",
   "execution_count": 29,
   "id": "1511dd04",
   "metadata": {},
   "outputs": [
    {
     "data": {
      "text/plain": [
       "<AxesSubplot:xlabel='Pregnancies', ylabel='Density'>"
      ]
     },
     "execution_count": 29,
     "metadata": {},
     "output_type": "execute_result"
    },
    {
     "data": {
      "image/png": "[encoded data removed]",
      "text/plain": [
       "<Figure size 432x288 with 1 Axes>"
      ]
     },
     "metadata": {},
     "output_type": "display_data"
    }
   ],
   "source": [
    "sns.kdeplot(x=\"Pregnancies\", hue=\"Outcome\", data=diabetes)"
   ]
  },
  {
   "cell_type": "code",
   "execution_count": 30,
   "id": "ed6da1be",
   "metadata": {},
   "outputs": [
    {
     "data": {
      "text/plain": [
       "<AxesSubplot:xlabel='Glucose', ylabel='Density'>"
      ]
     },
     "execution_count": 30,
     "metadata": {},
     "output_type": "execute_result"
    },
    {
     "data": {
      "image/png": "[encoded data removed]",
      "text/plain": [
       "<Figure size 432x288 with 1 Axes>"
      ]
     },
     "metadata": {},
     "output_type": "display_data"
    }
   ],
   "source": [
    "sns.kdeplot(x='Glucose',hue = 'Outcome',data=diabetes)"
   ]
  },
  {
   "cell_type": "markdown",
   "id": "6adf5fcb",
   "metadata": {},
   "source": [
    "# Model Building"
   ]
  },
  {
   "cell_type": "code",
   "execution_count": 31,
   "id": "7b88dff7",
   "metadata": {},
   "outputs": [
    {
     "name": "stdout",
     "output_type": "stream",
     "text": [
      "(611, 8)\n",
      "(153, 8)\n",
      "(611,)\n",
      "(153,)\n"
     ]
    }
   ],
   "source": [
    "\n",
    "X = diabetes.iloc[:,:-1].values\n",
    "y = diabetes['Outcome'].values\n",
    "\n",
    "X_train,X_test,y_train,y_test = train_test_split(X,y,test_size=0.20,random_state=0)\n",
    "print(X_train.shape)\n",
    "print(X_test.shape)\n",
    "print(y_train.shape)\n",
    "print(y_test.shape)"
   ]
  },
  {
   "cell_type": "code",
   "execution_count": 32,
   "id": "a6cfcc74",
   "metadata": {},
   "outputs": [],
   "source": [
    "\n",
    "sd = StandardScaler()\n",
    "\n",
    "x_train_sd = sd.fit_transform(X_train)\n",
    "x_test_sd = sd.transform(X_test)\n"
   ]
  },
  {
   "cell_type": "markdown",
   "id": "ee941c3c",
   "metadata": {},
   "source": [
    "# KNeighbors"
   ]
  },
  {
   "cell_type": "code",
   "execution_count": 33,
   "id": "f16294c8",
   "metadata": {},
   "outputs": [],
   "source": [
    "\n",
    "knn = KNeighborsClassifier(n_neighbors=5)\n",
    "knn.fit(x_train_sd,y_train)\n",
    "y_pred = knn.predict(x_test_sd)"
   ]
  },
  {
   "cell_type": "code",
   "execution_count": 34,
   "id": "09c9b243",
   "metadata": {},
   "outputs": [
    {
     "data": {
      "text/plain": [
       "0.7254901960784313"
      ]
     },
     "execution_count": 34,
     "metadata": {},
     "output_type": "execute_result"
    }
   ],
   "source": [
    "knnacc = accuracy_score(y_test,y_pred)\n",
    "knnacc"
   ]
  },
  {
   "cell_type": "code",
   "execution_count": 35,
   "id": "308324d9",
   "metadata": {},
   "outputs": [
    {
     "data": {
      "text/plain": [
       "<AxesSubplot:>"
      ]
     },
     "execution_count": 35,
     "metadata": {},
     "output_type": "execute_result"
    },
    {
     "data": {
      "image/png": "[encoded data removed]",
      "text/plain": [
       "<Figure size 432x288 with 2 Axes>"
      ]
     },
     "metadata": {},
     "output_type": "display_data"
    }
   ],
   "source": [
    "cm = confusion_matrix(y_test,y_pred)\n",
    "sns.heatmap(cm,annot=True)"
   ]
  },
  {
   "cell_type": "code",
   "execution_count": 36,
   "id": "3b1d3b88",
   "metadata": {},
   "outputs": [
    {
     "name": "stdout",
     "output_type": "stream",
     "text": [
      "              precision    recall  f1-score   support\n",
      "\n",
      "           0       0.77      0.80      0.79        96\n",
      "           1       0.64      0.60      0.62        57\n",
      "\n",
      "    accuracy                           0.73       153\n",
      "   macro avg       0.71      0.70      0.70       153\n",
      "weighted avg       0.72      0.73      0.72       153\n",
      "\n"
     ]
    }
   ],
   "source": [
    "report = classification_report(y_test,y_pred)\n",
    "print(report)"
   ]
  },
  {
   "cell_type": "markdown",
   "id": "57a017f5",
   "metadata": {},
   "source": [
    "# Decision Tree"
   ]
  },
  {
   "cell_type": "code",
   "execution_count": 37,
   "id": "0d52c11e",
   "metadata": {},
   "outputs": [],
   "source": [
    "dt = DecisionTreeClassifier(criterion='entropy')\n",
    "dt.fit(x_train_sd,y_train)\n",
    "y_pred = dt.predict(x_test_sd)\n"
   ]
  },
  {
   "cell_type": "code",
   "execution_count": 38,
   "id": "67bcce48",
   "metadata": {},
   "outputs": [
    {
     "data": {
      "text/plain": [
       "0.673202614379085"
      ]
     },
     "execution_count": 38,
     "metadata": {},
     "output_type": "execute_result"
    }
   ],
   "source": [
    "dtacc = accuracy_score(y_test,y_pred)\n",
    "dtacc"
   ]
  },
  {
   "cell_type": "code",
   "execution_count": 39,
   "id": "fe9b450b",
   "metadata": {},
   "outputs": [
    {
     "data": {
      "text/plain": [
       "<AxesSubplot:>"
      ]
     },
     "execution_count": 39,
     "metadata": {},
     "output_type": "execute_result"
    },
    {
     "data": {
      "image/png": "[encoded data removed]",
      "text/plain": [
       "<Figure size 432x288 with 2 Axes>"
      ]
     },
     "metadata": {},
     "output_type": "display_data"
    }
   ],
   "source": [
    "cm = confusion_matrix(y_test,y_pred)\n",
    "sns.heatmap(cm,annot=True)"
   ]
  },
  {
   "cell_type": "code",
   "execution_count": 40,
   "id": "44a3826d",
   "metadata": {},
   "outputs": [
    {
     "name": "stdout",
     "output_type": "stream",
     "text": [
      "              precision    recall  f1-score   support\n",
      "\n",
      "           0       0.73      0.75      0.74        96\n",
      "           1       0.56      0.54      0.55        57\n",
      "\n",
      "    accuracy                           0.67       153\n",
      "   macro avg       0.65      0.65      0.65       153\n",
      "weighted avg       0.67      0.67      0.67       153\n",
      "\n"
     ]
    }
   ],
   "source": [
    "report = classification_report(y_test,y_pred)\n",
    "print(report)"
   ]
  },
  {
   "cell_type": "markdown",
   "id": "378fc1e7",
   "metadata": {},
   "source": [
    "# SVC"
   ]
  },
  {
   "cell_type": "code",
   "execution_count": 41,
   "id": "9b8746a5",
   "metadata": {},
   "outputs": [],
   "source": [
    "\n",
    "svm = SVC(kernel='rbf')\n",
    "svm.fit(x_train_sd,y_train)\n",
    "y_pred = svm.predict(x_test_sd)"
   ]
  },
  {
   "cell_type": "code",
   "execution_count": 42,
   "id": "c376a151",
   "metadata": {},
   "outputs": [
    {
     "data": {
      "text/plain": [
       "0.7581699346405228"
      ]
     },
     "execution_count": 42,
     "metadata": {},
     "output_type": "execute_result"
    }
   ],
   "source": [
    "svmacc = accuracy_score(y_test,y_pred)\n",
    "svmacc"
   ]
  },
  {
   "cell_type": "code",
   "execution_count": 43,
   "id": "d4fd992b",
   "metadata": {},
   "outputs": [
    {
     "data": {
      "text/plain": [
       "<AxesSubplot:>"
      ]
     },
     "execution_count": 43,
     "metadata": {},
     "output_type": "execute_result"
    },
    {
     "data": {
      "image/png": "[encoded data removed]",
      "text/plain": [
       "<Figure size 432x288 with 2 Axes>"
      ]
     },
     "metadata": {},
     "output_type": "display_data"
    }
   ],
   "source": [
    "cm = confusion_matrix(y_test,y_pred)\n",
    "sns.heatmap(cm,annot=True)"
   ]
  },
  {
   "cell_type": "code",
   "execution_count": 44,
   "id": "de01043f",
   "metadata": {},
   "outputs": [
    {
     "name": "stdout",
     "output_type": "stream",
     "text": [
      "              precision    recall  f1-score   support\n",
      "\n",
      "           0       0.78      0.86      0.82        96\n",
      "           1       0.72      0.58      0.64        57\n",
      "\n",
      "    accuracy                           0.76       153\n",
      "   macro avg       0.75      0.72      0.73       153\n",
      "weighted avg       0.75      0.76      0.75       153\n",
      "\n"
     ]
    }
   ],
   "source": [
    "report = classification_report(y_test,y_pred)\n",
    "print(report)"
   ]
  },
  {
   "cell_type": "markdown",
   "id": "27016b19",
   "metadata": {},
   "source": [
    "# Logistic Regression"
   ]
  },
  {
   "cell_type": "code",
   "execution_count": 45,
   "id": "1e1a30af",
   "metadata": {},
   "outputs": [],
   "source": [
    "\n",
    "lr = LogisticRegression()\n",
    "lr.fit(x_train_sd,y_train)\n",
    "y_pred = lr.predict(x_test_sd)"
   ]
  },
  {
   "cell_type": "code",
   "execution_count": 46,
   "id": "6b8f3e28",
   "metadata": {},
   "outputs": [
    {
     "data": {
      "text/plain": [
       "0.7647058823529411"
      ]
     },
     "execution_count": 46,
     "metadata": {},
     "output_type": "execute_result"
    }
   ],
   "source": [
    "lracc = accuracy_score(y_test,y_pred)\n",
    "lracc"
   ]
  },
  {
   "cell_type": "code",
   "execution_count": 47,
   "id": "582b1711",
   "metadata": {},
   "outputs": [
    {
     "data": {
      "text/plain": [
       "<AxesSubplot:>"
      ]
     },
     "execution_count": 47,
     "metadata": {},
     "output_type": "execute_result"
    },
    {
     "data": {
      "image/png": "[encoded data removed]",
      "text/plain": [
       "<Figure size 432x288 with 2 Axes>"
      ]
     },
     "metadata": {},
     "output_type": "display_data"
    }
   ],
   "source": [
    "cm = confusion_matrix(y_test,y_pred)\n",
    "sns.heatmap(cm,annot=True)"
   ]
  },
  {
   "cell_type": "code",
   "execution_count": 48,
   "id": "64d03f72",
   "metadata": {},
   "outputs": [
    {
     "name": "stdout",
     "output_type": "stream",
     "text": [
      "              precision    recall  f1-score   support\n",
      "\n",
      "           0       0.78      0.88      0.82        96\n",
      "           1       0.73      0.58      0.65        57\n",
      "\n",
      "    accuracy                           0.76       153\n",
      "   macro avg       0.76      0.73      0.74       153\n",
      "weighted avg       0.76      0.76      0.76       153\n",
      "\n"
     ]
    }
   ],
   "source": [
    "report = classification_report(y_test,y_pred)\n",
    "print(report)"
   ]
  },
  {
   "cell_type": "markdown",
   "id": "0f7c74ec",
   "metadata": {},
   "source": [
    "# GRadient boosting"
   ]
  },
  {
   "cell_type": "code",
   "execution_count": 49,
   "id": "1f7cc745",
   "metadata": {},
   "outputs": [],
   "source": [
    "\n",
    "gbc = GradientBoostingClassifier()\n",
    "gbc.fit(x_train_sd,y_train)\n",
    "y_pred = gbc.predict(x_test_sd)"
   ]
  },
  {
   "cell_type": "code",
   "execution_count": 50,
   "id": "524abaa6",
   "metadata": {},
   "outputs": [
    {
     "data": {
      "text/plain": [
       "0.7254901960784313"
      ]
     },
     "execution_count": 50,
     "metadata": {},
     "output_type": "execute_result"
    }
   ],
   "source": [
    "gbcacc = accuracy_score(y_test,y_pred)\n",
    "gbcacc"
   ]
  },
  {
   "cell_type": "code",
   "execution_count": 51,
   "id": "987fcf90",
   "metadata": {},
   "outputs": [
    {
     "data": {
      "text/plain": [
       "<AxesSubplot:>"
      ]
     },
     "execution_count": 51,
     "metadata": {},
     "output_type": "execute_result"
    },
    {
     "data": {
      "image/png": "[encoded data removed]",
      "text/plain": [
       "<Figure size 432x288 with 2 Axes>"
      ]
     },
     "metadata": {},
     "output_type": "display_data"
    }
   ],
   "source": [
    "cm = confusion_matrix(y_test,y_pred)\n",
    "sns.heatmap(cm,annot=True)"
   ]
  },
  {
   "cell_type": "code",
   "execution_count": 52,
   "id": "114ef84c",
   "metadata": {},
   "outputs": [
    {
     "name": "stdout",
     "output_type": "stream",
     "text": [
      "              precision    recall  f1-score   support\n",
      "\n",
      "           0       0.77      0.80      0.79        96\n",
      "           1       0.64      0.60      0.62        57\n",
      "\n",
      "    accuracy                           0.73       153\n",
      "   macro avg       0.71      0.70      0.70       153\n",
      "weighted avg       0.72      0.73      0.72       153\n",
      "\n"
     ]
    }
   ],
   "source": [
    "report = classification_report(y_test,y_pred)\n",
    "print(report)"
   ]
  },
  {
   "cell_type": "markdown",
   "id": "16502186",
   "metadata": {},
   "source": [
    "# XGBoost"
   ]
  },
  {
   "cell_type": "code",
   "execution_count": 53,
   "id": "036d6d2e",
   "metadata": {},
   "outputs": [],
   "source": [
    "\n",
    "xg = XGBClassifier()\n",
    "xg.fit(x_train_sd,y_train)\n",
    "y_pred = xg.predict(x_test_sd)"
   ]
  },
  {
   "cell_type": "code",
   "execution_count": 54,
   "id": "594953e2",
   "metadata": {},
   "outputs": [
    {
     "data": {
      "text/plain": [
       "0.738562091503268"
      ]
     },
     "execution_count": 54,
     "metadata": {},
     "output_type": "execute_result"
    }
   ],
   "source": [
    "xgacc = accuracy_score(y_test,y_pred)\n",
    "xgacc"
   ]
  },
  {
   "cell_type": "code",
   "execution_count": 55,
   "id": "98b01a3f",
   "metadata": {},
   "outputs": [
    {
     "data": {
      "text/plain": [
       "<AxesSubplot:>"
      ]
     },
     "execution_count": 55,
     "metadata": {},
     "output_type": "execute_result"
    },
    {
     "data": {
      "image/png": "[encoded data removed]",
      "text/plain": [
       "<Figure size 432x288 with 2 Axes>"
      ]
     },
     "metadata": {},
     "output_type": "display_data"
    }
   ],
   "source": [
    "cm = confusion_matrix(y_test,y_pred)\n",
    "sns.heatmap(cm,annot=True)"
   ]
  },
  {
   "cell_type": "code",
   "execution_count": 56,
   "id": "84c379ec",
   "metadata": {},
   "outputs": [
    {
     "name": "stdout",
     "output_type": "stream",
     "text": [
      "              precision    recall  f1-score   support\n",
      "\n",
      "           0       0.78      0.81      0.80        96\n",
      "           1       0.66      0.61      0.64        57\n",
      "\n",
      "    accuracy                           0.74       153\n",
      "   macro avg       0.72      0.71      0.72       153\n",
      "weighted avg       0.74      0.74      0.74       153\n",
      "\n"
     ]
    }
   ],
   "source": [
    "report = classification_report(y_test,y_pred)\n",
    "print(report)"
   ]
  },
  {
   "cell_type": "code",
   "execution_count": 57,
   "id": "04815105",
   "metadata": {},
   "outputs": [
    {
     "data": {
      "text/html": [
       "<div>\n",
       "<style scoped>\n",
       "    .dataframe tbody tr th:only-of-type {\n",
       "        vertical-align: middle;\n",
       "    }\n",
       "\n",
       "    .dataframe tbody tr th {\n",
       "        vertical-align: top;\n",
       "    }\n",
       "\n",
       "    .dataframe thead th {\n",
       "        text-align: right;\n",
       "    }\n",
       "</style>\n",
       "<table border=\"1\" class=\"dataframe\">\n",
       "  <thead>\n",
       "    <tr style=\"text-align: right;\">\n",
       "      <th></th>\n",
       "      <th>Model</th>\n",
       "      <th>Accuracy</th>\n",
       "    </tr>\n",
       "  </thead>\n",
       "  <tbody>\n",
       "    <tr>\n",
       "      <th>3</th>\n",
       "      <td>Logistic</td>\n",
       "      <td>0.764706</td>\n",
       "    </tr>\n",
       "    <tr>\n",
       "      <th>2</th>\n",
       "      <td>SVM</td>\n",
       "      <td>0.758170</td>\n",
       "    </tr>\n",
       "    <tr>\n",
       "      <th>5</th>\n",
       "      <td>XGBoost</td>\n",
       "      <td>0.738562</td>\n",
       "    </tr>\n",
       "    <tr>\n",
       "      <th>0</th>\n",
       "      <td>KNearest</td>\n",
       "      <td>0.725490</td>\n",
       "    </tr>\n",
       "    <tr>\n",
       "      <th>4</th>\n",
       "      <td>GradientBoost</td>\n",
       "      <td>0.725490</td>\n",
       "    </tr>\n",
       "    <tr>\n",
       "      <th>1</th>\n",
       "      <td>DecisionTree</td>\n",
       "      <td>0.673203</td>\n",
       "    </tr>\n",
       "  </tbody>\n",
       "</table>\n",
       "</div>"
      ],
      "text/plain": [
       "           Model  Accuracy\n",
       "3       Logistic  0.764706\n",
       "2            SVM  0.758170\n",
       "5        XGBoost  0.738562\n",
       "0       KNearest  0.725490\n",
       "4  GradientBoost  0.725490\n",
       "1   DecisionTree  0.673203"
      ]
     },
     "execution_count": 57,
     "metadata": {},
     "output_type": "execute_result"
    }
   ],
   "source": [
    "df_compare = pd.DataFrame([[knnacc],[dtacc],[svmacc],[lracc],[gbcacc],[xgacc]],columns=['Accuracy'],index=['KNearest','DecisionTree','SVM','Logistic','GradientBoost','XGBoost'])\n",
    "df_compare.sort_values(by = 'Accuracy',ascending=False)\n",
    "df_compare = pd.DataFrame({'Model': ['KNearest','DecisionTree','SVM','Logistic','GradientBoost','XGBoost'],\n",
    "                          'Accuracy': [knnacc,dtacc,svmacc,lracc,gbcacc,xgacc]})\n",
    "df_compare.sort_values(by = 'Accuracy',ascending=False)"
   ]
  },
  {
   "cell_type": "code",
   "execution_count": 58,
   "id": "e4eb8a22",
   "metadata": {},
   "outputs": [
    {
     "data": {
      "image/png": "[encoded data removed]",
      "text/plain": [
       "<Figure size 1152x576 with 1 Axes>"
      ]
     },
     "metadata": {},
     "output_type": "display_data"
    }
   ],
   "source": [
    "plt.figure(figsize=(16,8))\n",
    "sns.barplot(x=df_compare['Model'],y=df_compare['Accuracy'])\n",
    "plt.xlabel('Models')\n",
    "plt.ylabel('Accuracy')\n",
    "plt.show()"
   ]
  },
  {
   "cell_type": "markdown",
   "id": "79fe622c",
   "metadata": {},
   "source": [
    "Observations:\n",
    "\n",
    "1) In dataset, diabetic patients are 268 and non-diabetic are 500.\n",
    "\n",
    "2) Most of the females with diabetes have 0 pregnancies.\n",
    "\n",
    "3) Outcome is modtly correlated with Glucose.\n",
    "\n",
    "4) The logistic and SVM has highest accuracy as compared to others.\n",
    "\n",
    "5) In logistic Regression, TP is 84 i.e Doctor perdicted correct value that patient has diabeties is 84.\n",
    "\n",
    "   TN is 33 i.e Doctor predicted No and the patient is non-diabeties is 33.\n",
    "   \n",
    "   FP is 12 i.e Doctor predicted Yes but they dont have diabeties is 12.\n",
    "   \n",
    "   FN is 24 i.e Doctor Predicted No but they have diabeties is 24.\n",
    "   \n",
    "   Precision is above 0.7 i.e. Accuracy of positive prediction is pretty good.\n",
    "   \n",
    "   Recall is above 0.8 i.e. Fraction of positives that were correctly identified which is good.\n",
    "   \n",
    "6) In SVM, TP is 83 i.e Doctor perdicted correct value that patient has diabeties is 83.\n",
    "   \n",
    "   TN is 33 i.e Doctor predicted No and the patient is non-diabeties is 33.\n",
    "   \n",
    "   FP is 13 i.e Doctor predicted Yes but they dont have diabeties is 13.\n",
    "   \n",
    "   FN is 24 i.e Doctor Predicted No but they have diabeties is 24.\n",
    "   \n",
    "   Precision is above 0.7 i.e. Accuracy of positive prediction is pretty good.\n",
    "   \n",
    "   Recall is above 0.8 i.e. Fraction of positives that were correctly identified which is good."
   ]
  },
  {
   "cell_type": "code",
   "execution_count": null,
   "id": "0270249e",
   "metadata": {},
   "outputs": [],
   "source": [
    "\n"
   ]
  }
 ],
 "metadata": {
  "kernelspec": {
   "display_name": "Python 3",
   "language": "python",
   "name": "python3"
  },
  "language_info": {
   "codemirror_mode": {
    "name": "ipython",
    "version": 3
   },
   "file_extension": ".py",
   "mimetype": "text/x-python",
   "name": "python",
   "nbconvert_exporter": "python",
   "pygments_lexer": "ipython3",
   "version": "3.8.8"
  }
 },
 "nbformat": 4,
 "nbformat_minor": 5
}
